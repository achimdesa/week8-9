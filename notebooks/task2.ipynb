{
 "cells": [
  {
   "cell_type": "markdown",
   "metadata": {},
   "source": [
    "# Task 2 - Model Building and Training "
   ]
  },
  {
   "cell_type": "code",
   "execution_count": 13,
   "metadata": {},
   "outputs": [],
   "source": [
    "# Importing required libraries\n",
    "import pandas as pd\n",
    "import matplotlib.pyplot as plt\n",
    "from sklearn.model_selection import train_test_split\n",
    "from sklearn.linear_model import LogisticRegression\n",
    "from sklearn.ensemble import RandomForestClassifier, GradientBoostingClassifier\n",
    "from sklearn.metrics import classification_report, accuracy_score\n",
    "import seaborn as sns\n",
    "import joblib\n",
    "from sklearn.preprocessing import LabelEncoder\n",
    "import os\n",
    "import sys\n",
    "\n",
    "# Add the parent directory to sys.path\n",
    "sys.path.append(os.path.abspath('../scripts'))"
   ]
  },
  {
   "cell_type": "markdown",
   "metadata": {},
   "source": [
    "## Import functions from model_building_and_training.py module"
   ]
  },
  {
   "cell_type": "code",
   "execution_count": 17,
   "metadata": {},
   "outputs": [],
   "source": [
    "from model_building_and_training import load_fraud_data, prepare_data, split_data,train_logistic_regression,train_decision_tree,train_xgboost,train_mlp, train_random_forest,save_model,train_model,evaluate_model,train_and_evaluate_models"
   ]
  },
  {
   "cell_type": "markdown",
   "metadata": {},
   "source": [
    "## Data Preparation\n",
    "### Load creditcard data and fraud data"
   ]
  },
  {
   "cell_type": "code",
   "execution_count": 18,
   "metadata": {},
   "outputs": [
    {
     "name": "stdout",
     "output_type": "stream",
     "text": [
      "Fraud Data Sample:\n",
      "   user_id          signup_time        purchase_time  purchase_value  \\\n",
      "0    22058  2015-02-24 22:55:49  2015-04-18 02:47:11              34   \n",
      "1   333320  2015-06-07 20:39:50  2015-06-08 01:38:54              16   \n",
      "2     1359  2015-01-01 18:52:44  2015-01-01 18:52:45              15   \n",
      "3   150084  2015-04-28 21:13:25  2015-05-04 13:54:50              44   \n",
      "4   221365  2015-07-21 07:09:52  2015-09-09 18:40:53              39   \n",
      "\n",
      "       device_id source browser sex  age    ip_address  class  \n",
      "0  QVPSPJUOCKZAR    SEO  Chrome   M   39  7.327584e+08      0  \n",
      "1  EOGFQPIZPYXFZ    Ads  Chrome   F   53  3.503114e+08      0  \n",
      "2  YSSKYOSJHPPLJ    SEO   Opera   M   53  2.621474e+09      1  \n",
      "3  ATGTXKYKUDUQN    SEO  Safari   M   41  3.840542e+09      0  \n",
      "4  NAUITBZFJKHWW    Ads  Safari   M   45  4.155831e+08      0   \n",
      "\n"
     ]
    }
   ],
   "source": [
    "fraud_data = pd.read_csv('../data/Fraud_Data.csv')\n",
    "creditcard_data = pd.read_csv('../data/creditcard.csv')\n",
    "\n",
    "# Step 2: Data Overview\n",
    "print(\"Fraud Data Sample:\")\n",
    "print(fraud_data.head(), \"\\n\")\n"
   ]
  },
  {
   "cell_type": "markdown",
   "metadata": {},
   "source": [
    "### Prepare the data"
   ]
  },
  {
   "cell_type": "code",
   "execution_count": 19,
   "metadata": {},
   "outputs": [],
   "source": [
    "X_fraud, y_fraud, X_credit, y_credit = prepare_data(fraud_data, creditcard_data)\n"
   ]
  },
  {
   "cell_type": "markdown",
   "metadata": {},
   "source": [
    "### Split the data into train and test"
   ]
  },
  {
   "cell_type": "code",
   "execution_count": 20,
   "metadata": {},
   "outputs": [
    {
     "name": "stdout",
     "output_type": "stream",
     "text": [
      "        user_id  purchase_value  age  source_Direct  source_SEO  \\\n",
      "61049    249239              42   31          False       False   \n",
      "141787    99761              38   32          False       False   \n",
      "84407    301394              12   36          False        True   \n",
      "115800   168756              12   19          False        True   \n",
      "61857    243337              41   28          False        True   \n",
      "...         ...             ...  ...            ...         ...   \n",
      "79502    340651              52   31          False        True   \n",
      "137723    49024              46   30          False       False   \n",
      "13126    217264              21   49          False       False   \n",
      "22089    301765              26   19           True       False   \n",
      "120195   180897              47   37          False       False   \n",
      "\n",
      "        browser_FireFox  browser_IE  browser_Opera  browser_Safari  sex_M  \n",
      "61049             False       False          False           False  False  \n",
      "141787            False       False          False           False   True  \n",
      "84407             False       False          False            True   True  \n",
      "115800            False        True          False           False   True  \n",
      "61857             False       False          False           False  False  \n",
      "...                 ...         ...            ...             ...    ...  \n",
      "79502             False       False           True           False   True  \n",
      "137723            False       False          False           False   True  \n",
      "13126             False       False          False           False   True  \n",
      "22089             False       False          False           False   True  \n",
      "120195             True       False          False           False  False  \n",
      "\n",
      "[105778 rows x 10 columns]\n"
     ]
    }
   ],
   "source": [
    "(X_train_fraud, X_test_fraud, y_train_fraud, y_test_fraud,\n",
    "X_train_credit, X_test_credit, y_train_credit, y_test_credit) = split_data(X_fraud, y_fraud, X_credit, y_credit)\n",
    "\n",
    "\n",
    "print(X_train_fraud)"
   ]
  },
  {
   "cell_type": "markdown",
   "metadata": {},
   "source": [
    "## ●\tModel Training and Evaluation\n",
    "### Training five models on both Fraud and Credit card data to compare their metrics results across models to assess which performs best."
   ]
  },
  {
   "cell_type": "code",
   "execution_count": null,
   "metadata": {},
   "outputs": [
    {
     "name": "stderr",
     "output_type": "stream",
     "text": [
      "e:\\EDUCATION\\Kifiya_AI_Mastery_Program\\week8-9\\w89venv\\Lib\\site-packages\\sklearn\\linear_model\\_logistic.py:465: ConvergenceWarning: lbfgs failed to converge (status=1):\n",
      "STOP: TOTAL NO. OF ITERATIONS REACHED LIMIT.\n",
      "\n",
      "Increase the number of iterations (max_iter) or scale the data as shown in:\n",
      "    https://scikit-learn.org/stable/modules/preprocessing.html\n",
      "Please also refer to the documentation for alternative solver options:\n",
      "    https://scikit-learn.org/stable/modules/linear_model.html#logistic-regression\n",
      "  n_iter_i = _check_optimize_result(\n",
      "e:\\EDUCATION\\Kifiya_AI_Mastery_Program\\week8-9\\w89venv\\Lib\\site-packages\\xgboost\\core.py:158: UserWarning: [13:43:35] WARNING: C:\\buildkite-agent\\builds\\buildkite-windows-cpu-autoscaling-group-i-08cbc0333d8d4aae1-1\\xgboost\\xgboost-ci-windows\\src\\learner.cc:740: \n",
      "Parameters: { \"use_label_encoder\" } are not used.\n",
      "\n",
      "  warnings.warn(smsg, UserWarning)\n",
      "e:\\EDUCATION\\Kifiya_AI_Mastery_Program\\week8-9\\w89venv\\Lib\\site-packages\\xgboost\\core.py:158: UserWarning: [13:43:36] WARNING: C:\\buildkite-agent\\builds\\buildkite-windows-cpu-autoscaling-group-i-08cbc0333d8d4aae1-1\\xgboost\\xgboost-ci-windows\\src\\learner.cc:740: \n",
      "Parameters: { \"use_label_encoder\" } are not used.\n",
      "\n",
      "  warnings.warn(smsg, UserWarning)\n",
      "e:\\EDUCATION\\Kifiya_AI_Mastery_Program\\week8-9\\w89venv\\Lib\\site-packages\\sklearn\\metrics\\_classification.py:1565: UndefinedMetricWarning: Precision is ill-defined and being set to 0.0 due to no predicted samples. Use `zero_division` parameter to control this behavior.\n",
      "  _warn_prf(average, modifier, f\"{metric.capitalize()} is\", len(result))\n"
     ]
    },
    {
     "name": "stdout",
     "output_type": "stream",
     "text": [
      "                              accuracy  precision    recall  f1_score\n",
      "Logistic Regression (Fraud)   0.906362   0.000000  0.000000  0.000000\n",
      "Logistic Regression (Credit)  0.999169   0.846847  0.635135  0.725869\n",
      "Decision Tree (Fraud)         0.863392   0.296064  0.333098  0.313491\n",
      "Decision Tree (Credit)        0.999181   0.778571  0.736486  0.756944\n",
      "Random Forest (Fraud)         0.916156   0.655245  0.220730  0.330220\n",
      "Random Forest (Credit)        0.999520   0.957265  0.756757  0.845283\n",
      "XGBoost (Fraud)               0.907906   0.730263  0.026148  0.050489\n",
      "XGBoost (Credit)              0.999485   0.940678  0.750000  0.834586\n",
      "MLP (Fraud)                   0.906340   0.333333  0.000236  0.000471\n",
      "MLP (Credit)                  0.998280   0.600000  0.020270  0.039216\n"
     ]
    }
   ],
   "source": [
    "\n",
    "models = {\n",
    "    \"Logistic Regression (Fraud)\": train_logistic_regression(X_train_fraud, y_train_fraud),\n",
    "    \"Logistic Regression (Credit)\": train_logistic_regression(X_train_credit, y_train_credit),\n",
    "    \"Decision Tree (Fraud)\": train_decision_tree(X_train_fraud, y_train_fraud),\n",
    "    \"Decision Tree (Credit)\": train_decision_tree(X_train_credit, y_train_credit),\n",
    "    \"Random Forest (Fraud)\": train_random_forest(X_train_fraud, y_train_fraud),\n",
    "    \"Random Forest (Credit)\": train_random_forest(X_train_credit, y_train_credit),\n",
    "    \"XGBoost (Fraud)\": train_xgboost(X_train_fraud, y_train_fraud),\n",
    "    \"XGBoost (Credit)\": train_xgboost(X_train_credit, y_train_credit),\n",
    "    \"MLP (Fraud)\": train_mlp(X_train_fraud, y_train_fraud),\n",
    "    \"MLP (Credit)\": train_mlp(X_train_credit, y_train_credit),\n",
    "}\n",
    "\n",
    "# Initialize a dictionary to store metrics\n",
    "metrics_dict = {}\n",
    "\n",
    "# Evaluate each model and store metrics\n",
    "for name, model in models.items():\n",
    "    if \"Fraud\" in name:\n",
    "        metrics = evaluate_model(model, X_test_fraud, y_test_fraud)\n",
    "    else:\n",
    "        metrics = evaluate_model(model, X_test_credit, y_test_credit)\n",
    "    \n",
    "    metrics_dict[name] = metrics\n",
    "\n",
    "# Convert metrics to DataFrame for easier viewing\n",
    "results_df = pd.DataFrame(metrics_dict).T  # Transpose for better format\n",
    "print(results_df)"
   ]
  },
  {
   "cell_type": "markdown",
   "metadata": {},
   "source": [
    "\n",
    "## Train Random Forest model for Fraud Data\n",
    "#### Based on the result of evaluation Random Forest model has better accuracy and selected to be trained"
   ]
  },
  {
   "cell_type": "code",
   "execution_count": null,
   "metadata": {},
   "outputs": [
    {
     "name": "stdout",
     "output_type": "stream",
     "text": [
      "Training Random Forest model for Fraud_Data...\n"
     ]
    }
   ],
   "source": [
    "\n",
    "print(\"Training Random Forest model for Fraud_Data...\")\n",
    "rf_model_fraud = train_random_forest(X_train_fraud, y_train_fraud)"
   ]
  },
  {
   "cell_type": "markdown",
   "metadata": {},
   "source": [
    "## Train Random Forest model for Credit Card Data"
   ]
  },
  {
   "cell_type": "code",
   "execution_count": null,
   "metadata": {},
   "outputs": [
    {
     "name": "stdout",
     "output_type": "stream",
     "text": [
      "Training Random Forest model for Credit Data...\n"
     ]
    }
   ],
   "source": [
    "\n",
    "print(\"Training Random Forest model for Credit Data...\")\n",
    "rf_model_credit = train_random_forest(X_train_credit, y_train_credit)\n"
   ]
  },
  {
   "cell_type": "markdown",
   "metadata": {},
   "source": [
    "## Save Random Forest models for both data"
   ]
  },
  {
   "cell_type": "code",
   "execution_count": 21,
   "metadata": {},
   "outputs": [
    {
     "name": "stdout",
     "output_type": "stream",
     "text": [
      "Model saved at: ../models/random_forest_fraud_model.pkl\n",
      "Model saved at: ../models/random_forest_credit_model.pkl\n"
     ]
    }
   ],
   "source": [
    "\n",
    "save_model(rf_model_fraud, '../models/random_forest_fraud_model.pkl')\n",
    "save_model(rf_model_credit, '../models/random_forest_credit_model.pkl')"
   ]
  }
 ],
 "metadata": {
  "kernelspec": {
   "display_name": "w89venv",
   "language": "python",
   "name": "python3"
  },
  "language_info": {
   "codemirror_mode": {
    "name": "ipython",
    "version": 3
   },
   "file_extension": ".py",
   "mimetype": "text/x-python",
   "name": "python",
   "nbconvert_exporter": "python",
   "pygments_lexer": "ipython3",
   "version": "3.12.9"
  }
 },
 "nbformat": 4,
 "nbformat_minor": 2
}
