{
 "cells": [
  {
   "cell_type": "markdown",
   "metadata": {},
   "source": [
    "# Task 1 - Data Analysis and Preprocessing"
   ]
  },
  {
   "cell_type": "markdown",
   "metadata": {},
   "source": [
    "## Import necessary libraries"
   ]
  },
  {
   "cell_type": "code",
   "execution_count": 36,
   "metadata": {},
   "outputs": [],
   "source": [
    "import sys\n",
    "import os\n",
    "import pandas as pd\n",
    "import matplotlib.pyplot as plt\n",
    "import seaborn as sns\n",
    "from sklearn.preprocessing import MinMaxScaler\n",
    "\n",
    "\n",
    "# Add the parent directory to sys.path\n",
    "sys.path.append(os.path.abspath('../scripts'))"
   ]
  },
  {
   "cell_type": "markdown",
   "metadata": {},
   "source": [
    "## Import functions from relevant Module"
   ]
  },
  {
   "cell_type": "code",
   "execution_count": 37,
   "metadata": {},
   "outputs": [],
   "source": [
    "from preprocessing import load_datasets,display_samples,check_missing_values,clean_data,plot_purchase_value_distribution,plot_purchase_value_vs_class,convert_ip_to_integer,merge_ip_data,feature_engineering,normalize_features,one_hot_encode,display_final_data\n"
   ]
  },
  {
   "cell_type": "markdown",
   "metadata": {},
   "source": [
    "## Load the datasets"
   ]
  },
  {
   "cell_type": "code",
   "execution_count": 38,
   "metadata": {},
   "outputs": [
    {
     "name": "stdout",
     "output_type": "stream",
     "text": [
      "Data loaded successfully. Credit card Shape: (284807, 31), Fraud data Shape: (151112, 11), IP data Shape: (138846, 3)\n"
     ]
    }
   ],
   "source": [
    "creditcard_data = pd.read_csv('../data/creditcard.csv')\n",
    "fraud_data = pd.read_csv('../data/Fraud_Data.csv')\n",
    "ip_data = pd.read_csv('../data/IpAddress_to_Country.csv')\n",
    "print(f\"Data loaded successfully. Credit card Shape: {creditcard_data.shape}, Fraud data Shape: {fraud_data.shape}, IP data Shape: {ip_data.shape}\")\n",
    "        "
   ]
  },
  {
   "cell_type": "markdown",
   "metadata": {},
   "source": [
    "## Data overview"
   ]
  },
  {
   "cell_type": "code",
   "execution_count": 39,
   "metadata": {},
   "outputs": [
    {
     "name": "stdout",
     "output_type": "stream",
     "text": [
      "Credit Card Data Sample:\n",
      "   Time        V1        V2        V3        V4        V5        V6        V7  \\\n",
      "0   0.0 -1.359807 -0.072781  2.536347  1.378155 -0.338321  0.462388  0.239599   \n",
      "1   0.0  1.191857  0.266151  0.166480  0.448154  0.060018 -0.082361 -0.078803   \n",
      "2   1.0 -1.358354 -1.340163  1.773209  0.379780 -0.503198  1.800499  0.791461   \n",
      "3   1.0 -0.966272 -0.185226  1.792993 -0.863291 -0.010309  1.247203  0.237609   \n",
      "4   2.0 -1.158233  0.877737  1.548718  0.403034 -0.407193  0.095921  0.592941   \n",
      "\n",
      "         V8        V9  ...       V21       V22       V23       V24       V25  \\\n",
      "0  0.098698  0.363787  ... -0.018307  0.277838 -0.110474  0.066928  0.128539   \n",
      "1  0.085102 -0.255425  ... -0.225775 -0.638672  0.101288 -0.339846  0.167170   \n",
      "2  0.247676 -1.514654  ...  0.247998  0.771679  0.909412 -0.689281 -0.327642   \n",
      "3  0.377436 -1.387024  ... -0.108300  0.005274 -0.190321 -1.175575  0.647376   \n",
      "4 -0.270533  0.817739  ... -0.009431  0.798278 -0.137458  0.141267 -0.206010   \n",
      "\n",
      "        V26       V27       V28  Amount  Class  \n",
      "0 -0.189115  0.133558 -0.021053  149.62      0  \n",
      "1  0.125895 -0.008983  0.014724    2.69      0  \n",
      "2 -0.139097 -0.055353 -0.059752  378.66      0  \n",
      "3 -0.221929  0.062723  0.061458  123.50      0  \n",
      "4  0.502292  0.219422  0.215153   69.99      0  \n",
      "\n",
      "[5 rows x 31 columns] \n",
      "\n",
      "Fraud Data Sample:\n",
      "   user_id          signup_time        purchase_time  purchase_value  \\\n",
      "0    22058  2015-02-24 22:55:49  2015-04-18 02:47:11              34   \n",
      "1   333320  2015-06-07 20:39:50  2015-06-08 01:38:54              16   \n",
      "2     1359  2015-01-01 18:52:44  2015-01-01 18:52:45              15   \n",
      "3   150084  2015-04-28 21:13:25  2015-05-04 13:54:50              44   \n",
      "4   221365  2015-07-21 07:09:52  2015-09-09 18:40:53              39   \n",
      "\n",
      "       device_id source browser sex  age    ip_address  class  \n",
      "0  QVPSPJUOCKZAR    SEO  Chrome   M   39  7.327584e+08      0  \n",
      "1  EOGFQPIZPYXFZ    Ads  Chrome   F   53  3.503114e+08      0  \n",
      "2  YSSKYOSJHPPLJ    SEO   Opera   M   53  2.621474e+09      1  \n",
      "3  ATGTXKYKUDUQN    SEO  Safari   M   41  3.840542e+09      0  \n",
      "4  NAUITBZFJKHWW    Ads  Safari   M   45  4.155831e+08      0   \n",
      "\n",
      "IP Address Data Sample:\n",
      "   lower_bound_ip_address  upper_bound_ip_address    country\n",
      "0              16777216.0                16777471  Australia\n",
      "1              16777472.0                16777727      China\n",
      "2              16777728.0                16778239      China\n",
      "3              16778240.0                16779263  Australia\n",
      "4              16779264.0                16781311      China \n",
      "\n",
      "Credit Card Data Missing Values:\n",
      " Time      0\n",
      "V1        0\n",
      "V2        0\n",
      "V3        0\n",
      "V4        0\n",
      "V5        0\n",
      "V6        0\n",
      "V7        0\n",
      "V8        0\n",
      "V9        0\n",
      "V10       0\n",
      "V11       0\n",
      "V12       0\n",
      "V13       0\n",
      "V14       0\n",
      "V15       0\n",
      "V16       0\n",
      "V17       0\n",
      "V18       0\n",
      "V19       0\n",
      "V20       0\n",
      "V21       0\n",
      "V22       0\n",
      "V23       0\n",
      "V24       0\n",
      "V25       0\n",
      "V26       0\n",
      "V27       0\n",
      "V28       0\n",
      "Amount    0\n",
      "Class     0\n",
      "dtype: int64 \n",
      "\n",
      "Fraud Data Missing Values:\n",
      " user_id           0\n",
      "signup_time       0\n",
      "purchase_time     0\n",
      "purchase_value    0\n",
      "device_id         0\n",
      "source            0\n",
      "browser           0\n",
      "sex               0\n",
      "age               0\n",
      "ip_address        0\n",
      "class             0\n",
      "dtype: int64 \n",
      "\n",
      "IP Address Data Missing Values:\n",
      " lower_bound_ip_address    0\n",
      "upper_bound_ip_address    0\n",
      "country                   0\n",
      "dtype: int64 \n",
      "\n"
     ]
    }
   ],
   "source": [
    "\"\"\"Display the first few rows of each dataset.\"\"\"\n",
    "display_samples(creditcard_data,fraud_data,ip_data)\n",
    "\n",
    "# Checking for missing values\n",
    "check_missing_values(creditcard_data,fraud_data,ip_data)"
   ]
  },
  {
   "cell_type": "markdown",
   "metadata": {},
   "source": [
    "## 1.\tData Cleaning\n",
    "### ○\tHandle Missing Values, Remove duplicates and Convert relevant columns to datetime\n"
   ]
  },
  {
   "cell_type": "code",
   "execution_count": 40,
   "metadata": {},
   "outputs": [],
   "source": [
    "creditcard_data, fraud_data, ip_data = clean_data(creditcard_data, fraud_data, ip_data)\n"
   ]
  },
  {
   "cell_type": "markdown",
   "metadata": {},
   "source": [
    "## 2.\tExploratory Data Analysis (EDA)\n",
    "### ○ Univariate analysis for fraud_data: Distribution of Purchase Value"
   ]
  },
  {
   "cell_type": "code",
   "execution_count": 41,
   "metadata": {},
   "outputs": [
    {
     "name": "stdout",
     "output_type": "stream",
     "text": [
      "Plotting Distribution of Purchase Value...\n"
     ]
    },
    {
     "data": {
      "image/png": "[encoded data removed]",
      "text/plain": [
       "<Figure size 640x480 with 1 Axes>"
      ]
     },
     "metadata": {},
     "output_type": "display_data"
    }
   ],
   "source": [
    "plot_purchase_value_distribution(fraud_data)"
   ]
  },
  {
   "cell_type": "markdown",
   "metadata": {},
   "source": [
    "### ○ Bivariate analysis between purchase_value and fraud class"
   ]
  },
  {
   "cell_type": "code",
   "execution_count": 42,
   "metadata": {},
   "outputs": [
    {
     "name": "stdout",
     "output_type": "stream",
     "text": [
      "Plotting Purchase Value vs Fraud Class...\n"
     ]
    },
    {
     "data": {
      "image/png": "[encoded data removed]",
      "text/plain": [
       "<Figure size 640x480 with 1 Axes>"
      ]
     },
     "metadata": {},
     "output_type": "display_data"
    }
   ],
   "source": [
    "plot_purchase_value_vs_class(fraud_data)"
   ]
  },
  {
   "cell_type": "markdown",
   "metadata": {},
   "source": [
    "## 3.\tMerge Datasets for Geolocation Analysis\n",
    "### ○\tConvert IP addresses to integer format and Merge Fraud_Data.csv with IpAddress_to_Country.csv\n"
   ]
  },
  {
   "cell_type": "code",
   "execution_count": 43,
   "metadata": {},
   "outputs": [
    {
     "name": "stdout",
     "output_type": "stream",
     "text": [
      "Merged Data Sample:\n",
      "   user_id         signup_time       purchase_time  purchase_value  \\\n",
      "0    22058 2015-02-24 22:55:49 2015-04-18 02:47:11            34.0   \n",
      "1   333320 2015-06-07 20:39:50 2015-06-08 01:38:54            16.0   \n",
      "2     1359 2015-01-01 18:52:44 2015-01-01 18:52:45            15.0   \n",
      "3   150084 2015-04-28 21:13:25 2015-05-04 13:54:50            44.0   \n",
      "4   221365 2015-07-21 07:09:52 2015-09-09 18:40:53            39.0   \n",
      "\n",
      "       device_id source browser sex  age       ip_address  class country  \n",
      "0  QVPSPJUOCKZAR    SEO  Chrome   M   39   73275836879972      0     NaN  \n",
      "1  EOGFQPIZPYXFZ    Ads  Chrome   F   53  350311387865908      0     NaN  \n",
      "2  YSSKYOSJHPPLJ    SEO   Opera   M   53  262147382011095      1     NaN  \n",
      "3  ATGTXKYKUDUQN    SEO  Safari   M   41  384054244391396      0     NaN  \n",
      "4  NAUITBZFJKHWW    Ads  Safari   M   45  415583117452712      0     NaN   \n",
      "\n"
     ]
    }
   ],
   "source": [
    "fraud_data = convert_ip_to_integer(fraud_data)\n",
    "merged_data = merge_ip_data(fraud_data, ip_data)\n",
    "\n",
    "print(\"Merged Data Sample:\")\n",
    "print(merged_data.head(), \"\\n\")"
   ]
  },
  {
   "cell_type": "markdown",
   "metadata": {},
   "source": [
    "## 4.\tFeature Engineering\n"
   ]
  },
  {
   "cell_type": "markdown",
   "metadata": {},
   "source": [
    "### ○\tTransaction frequency and velocity for Fraud_Data.csv\n",
    "### ○\tTime-Based features for Fraud_Data.csv\n",
    "####      i.\thour_of _day\n",
    "####      ii.\tday_of_week"
   ]
  },
  {
   "cell_type": "code",
   "execution_count": 44,
   "metadata": {},
   "outputs": [],
   "source": [
    "fraud_data = feature_engineering(fraud_data)"
   ]
  },
  {
   "cell_type": "markdown",
   "metadata": {},
   "source": [
    "## 5.\tNormalization and Scaling"
   ]
  },
  {
   "cell_type": "code",
   "execution_count": 45,
   "metadata": {},
   "outputs": [],
   "source": [
    "fraud_data = normalize_features(fraud_data)"
   ]
  },
  {
   "cell_type": "markdown",
   "metadata": {},
   "source": [
    "## 6.\tEncode Categorical Features"
   ]
  },
  {
   "cell_type": "code",
   "execution_count": 46,
   "metadata": {},
   "outputs": [
    {
     "name": "stdout",
     "output_type": "stream",
     "text": [
      "Fraud Data with New Features:\n",
      "   user_id         signup_time       purchase_time  purchase_value  \\\n",
      "0    22058 2015-02-24 22:55:49 2015-04-18 02:47:11        0.172414   \n",
      "1   333320 2015-06-07 20:39:50 2015-06-08 01:38:54        0.048276   \n",
      "2     1359 2015-01-01 18:52:44 2015-01-01 18:52:45        0.041379   \n",
      "3   150084 2015-04-28 21:13:25 2015-05-04 13:54:50        0.241379   \n",
      "4   221365 2015-07-21 07:09:52 2015-09-09 18:40:53        0.206897   \n",
      "\n",
      "       device_id  age       ip_address  class  transaction_frequency  \\\n",
      "0  QVPSPJUOCKZAR   39   73275836879972      0                      1   \n",
      "1  EOGFQPIZPYXFZ   53  350311387865908      0                      1   \n",
      "2  YSSKYOSJHPPLJ   53  262147382011095      1                      1   \n",
      "3  ATGTXKYKUDUQN   41  384054244391396      0                      1   \n",
      "4  NAUITBZFJKHWW   45  415583117452712      0                      1   \n",
      "\n",
      "   transaction_velocity  hour_of_day  day_of_week  source_Direct  source_SEO  \\\n",
      "0              0.434673            2            5          False        True   \n",
      "1              0.001731            1            0          False       False   \n",
      "2              0.000000           18            3          False        True   \n",
      "3              0.047462           13            0          False        True   \n",
      "4              0.420667           18            2          False       False   \n",
      "\n",
      "   browser_FireFox  browser_IE  browser_Opera  browser_Safari  sex_M  \n",
      "0            False       False          False           False   True  \n",
      "1            False       False          False           False  False  \n",
      "2            False       False           True           False   True  \n",
      "3            False       False          False            True   True  \n",
      "4            False       False          False            True   True   \n",
      "\n"
     ]
    }
   ],
   "source": [
    "fraud_data = one_hot_encode(fraud_data)\n",
    "\n",
    "display_final_data(fraud_data)"
   ]
  },
  {
   "cell_type": "markdown",
   "metadata": {},
   "source": [
    "## 7. Save preprocessed datasets"
   ]
  },
  {
   "cell_type": "code",
   "execution_count": 47,
   "metadata": {},
   "outputs": [],
   "source": [
    "fraud_data.to_csv('../data/Preprocessed_Fraud_Data.csv', index=False)\n",
    "creditcard_data.to_csv('../data/Preprocessed_creditcard.csv', index=False)"
   ]
  }
 ],
 "metadata": {
  "kernelspec": {
   "display_name": "w89venv",
   "language": "python",
   "name": "python3"
  },
  "language_info": {
   "codemirror_mode": {
    "name": "ipython",
    "version": 3
   },
   "file_extension": ".py",
   "mimetype": "text/x-python",
   "name": "python",
   "nbconvert_exporter": "python",
   "pygments_lexer": "ipython3",
   "version": "3.12.9"
  }
 },
 "nbformat": 4,
 "nbformat_minor": 2
}
